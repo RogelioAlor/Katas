{
 "cells": [
  {
   "cell_type": "markdown",
   "metadata": {},
   "source": [
    "Ejercicio 1"
   ]
  },
  {
   "cell_type": "code",
   "execution_count": 37,
   "metadata": {},
   "outputs": [],
   "source": [
    "def combustible(tq1, tq2, tq3):\n",
    "    t = tq1 + tq2 + tq3\n",
    "    tq = t/3\n",
    "    return f\"\"\" Reporte total:\n",
    "    Porcentaje total: {tq}%\n",
    "    Tanque 1:{tq1}\n",
    "    Tanque 2: {tq2}\n",
    "    Tanque 3:{tq3}\"\"\"\n"
   ]
  },
  {
   "cell_type": "code",
   "execution_count": 38,
   "metadata": {},
   "outputs": [
    {
     "data": {
      "text/plain": [
       "' Reporte total:\\n    Porcentaje total: 35.333333333333336%\\n    Tanque 1:50\\n    Tanque 2: 44\\n    Tanque 3:12'"
      ]
     },
     "execution_count": 38,
     "metadata": {},
     "output_type": "execute_result"
    }
   ],
   "source": [
    ">>> combustible(50, 44, 12)"
   ]
  },
  {
   "cell_type": "code",
   "execution_count": 31,
   "metadata": {},
   "outputs": [],
   "source": [
    "def promedio(valores):\n",
    "    total = sum(valores)\n",
    "    n = len(valores)\n",
    "    return total/n"
   ]
  },
  {
   "cell_type": "code",
   "execution_count": 32,
   "metadata": {},
   "outputs": [],
   "source": [
    "def combustible(tq1, tq2, tq3):\n",
    "    return f\"\"\" Reporte total:\n",
    "    Porcentaje total: {promedio([tq1, tq2, tq3])}%\n",
    "    Tanque 1:{tq1}\n",
    "    Tanque 2: {tq2}\n",
    "    Tanque 3:{tq3}\"\"\"\n"
   ]
  },
  {
   "cell_type": "code",
   "execution_count": 34,
   "metadata": {},
   "outputs": [
    {
     "data": {
      "text/plain": [
       "' Reporte total:\\n    Porcentaje total: 35.333333333333336%\\n    Tanque 1:50\\n    Tanque 2: 44\\n    Tanque 3:12'"
      ]
     },
     "execution_count": 34,
     "metadata": {},
     "output_type": "execute_result"
    }
   ],
   "source": [
    ">>> combustible(50, 44, 12)"
   ]
  },
  {
   "cell_type": "markdown",
   "metadata": {},
   "source": [
    "Ejercicio 2"
   ]
  },
  {
   "cell_type": "code",
   "execution_count": 44,
   "metadata": {},
   "outputs": [
    {
     "name": "stdout",
     "output_type": "stream",
     "text": [
      "Destino: luna, Tiempo de viaje: 78 minutos, Combustible: 24356\n"
     ]
    }
   ],
   "source": [
    "def mision(destino, *tiempo, **combustibles):\n",
    "    return F\"\"\"Destino: {destino}, Tiempo de viaje: {sum(tiempo)} minutos, Combustible: {sum(combustibles.values())}\"\"\"\n",
    "print(mision(\"luna\", 55, 23, Externo=1222, interno=23134 ))"
   ]
  },
  {
   "cell_type": "code",
   "execution_count": 46,
   "metadata": {},
   "outputs": [
    {
     "name": "stdout",
     "output_type": "stream",
     "text": [
      "Destino: luna, Tiempo de viaje: 78 minutos, Combustible: 24356\n"
     ]
    }
   ],
   "source": [
    "def mision(destino, *tiempo, **combustibles):\n",
    "    return f\"Destino: {destino}, Tiempo de viaje: {sum(tiempo)} minutos, Combustible: {sum(combustibles.values())}\"\n",
    "    for taques, litos in combustibles.items():\n",
    "        mision += f\"{tanques} tanque --> {litos} litros left\\n\"\n",
    "        return mision\n",
    "\n",
    "print(mision(\"luna\", 55, 23, Externo=1222, interno=23134 ))"
   ]
  }
 ],
 "metadata": {
  "interpreter": {
   "hash": "fe06f96167c4fc64a78c238d993189072a4e72b444216e36203d6f96126eaf0a"
  },
  "kernelspec": {
   "display_name": "Python 3.9.2 64-bit",
   "language": "python",
   "name": "python3"
  },
  "language_info": {
   "codemirror_mode": {
    "name": "ipython",
    "version": 3
   },
   "file_extension": ".py",
   "mimetype": "text/x-python",
   "name": "python",
   "nbconvert_exporter": "python",
   "pygments_lexer": "ipython3",
   "version": "3.9.2"
  },
  "orig_nbformat": 4
 },
 "nbformat": 4,
 "nbformat_minor": 2
}
