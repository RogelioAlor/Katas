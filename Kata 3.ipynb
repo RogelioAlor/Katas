{
 "cells": [
  {
   "cell_type": "markdown",
   "metadata": {},
   "source": [
    "Ejercicio 1"
   ]
  },
  {
   "cell_type": "code",
   "execution_count": 42,
   "metadata": {},
   "outputs": [
    {
     "name": "stdout",
     "output_type": "stream",
     "text": [
      "Advertencia de asteroide\n"
     ]
    }
   ],
   "source": [
    "ast = 49\n",
    "if ast > 25:\n",
    "    print(\"Advertencia de asteroide\")\n",
    "else:\n",
    "    print(\"todo chido\")"
   ]
  },
  {
   "cell_type": "markdown",
   "metadata": {},
   "source": [
    "Ejercicio 2"
   ]
  },
  {
   "cell_type": "code",
   "execution_count": 16,
   "metadata": {},
   "outputs": [
    {
     "name": "stdout",
     "output_type": "stream",
     "text": [
      "Hay un asterioide en la admosfera\n"
     ]
    }
   ],
   "source": [
    "ast = 19\n",
    "if ast > 20:\n",
    "    print(\"busquen el asteroide en la atmosfera\")\n",
    "elif ast == 20:\n",
    "        print(\"Hay un asterioide en la admosfera\")\n",
    "else:\n",
    "    print(\"no hay asteroide\")"
   ]
  },
  {
   "cell_type": "markdown",
   "metadata": {},
   "source": [
    "ejercicio 3"
   ]
  },
  {
   "cell_type": "code",
   "execution_count": 41,
   "metadata": {},
   "outputs": [
    {
     "name": "stdout",
     "output_type": "stream",
     "text": [
      "advertencia de asteroide\n"
     ]
    }
   ],
   "source": [
    "V1 = 25\n",
    "V2 = 20\n",
    "ast = 212\n",
    "if ast < 25 and V2 >= 20 and V1 < 26:\n",
    "    print(\"Miren el pequeño asteroide en el cielo\")\n",
    "\n",
    "if ast > 24 and ast < 1000 and V1 > 24 and V2 >= 20:\n",
    "    print(\"Peligro observen el asteroide en el cielo corran por sus vidas\")\n",
    "if V1 > 24 or ast > 24 and ast < 1000:\n",
    "    print(\"advertencia de asteroide\") "
   ]
  }
 ],
 "metadata": {
  "interpreter": {
   "hash": "fe06f96167c4fc64a78c238d993189072a4e72b444216e36203d6f96126eaf0a"
  },
  "kernelspec": {
   "display_name": "Python 3.9.2 64-bit",
   "language": "python",
   "name": "python3"
  },
  "language_info": {
   "codemirror_mode": {
    "name": "ipython",
    "version": 3
   },
   "file_extension": ".py",
   "mimetype": "text/x-python",
   "name": "python",
   "nbconvert_exporter": "python",
   "pygments_lexer": "ipython3",
   "version": "3.9.2"
  },
  "orig_nbformat": 4
 },
 "nbformat": 4,
 "nbformat_minor": 2
}
